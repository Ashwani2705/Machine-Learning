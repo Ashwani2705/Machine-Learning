{
 "cells": [
  {
   "cell_type": "markdown",
   "id": "4770d4e4",
   "metadata": {},
   "source": [
    "#Module and packages\n",
    "from package_name import any_function "
   ]
  },
  {
   "cell_type": "code",
   "execution_count": 3,
   "id": "f4cd3445",
   "metadata": {},
   "outputs": [
    {
     "data": {
      "text/plain": [
       "array([1, 2, 3, 4, 5])"
      ]
     },
     "execution_count": 3,
     "metadata": {},
     "output_type": "execute_result"
    }
   ],
   "source": [
    "import numpy as np\n",
    "np.array([1,2,3,4,5])"
   ]
  },
  {
   "cell_type": "code",
   "execution_count": 4,
   "id": "e603581b",
   "metadata": {},
   "outputs": [],
   "source": [
    "#from math i want to every module \n",
    "from math import * "
   ]
  },
  {
   "cell_type": "code",
   "execution_count": null,
   "id": "fbdfbf47",
   "metadata": {},
   "outputs": [],
   "source": [
    "# from math import *  # This imports all functions and variables from the math module\n",
    "# from math import sqrt, pi  # This imports only specific functions and variables"
   ]
  },
  {
   "cell_type": "code",
   "execution_count": null,
   "id": "79df705e",
   "metadata": {},
   "outputs": [],
   "source": [
    "# __init___.py is a special file that indicates that the directory should be treated as a package\n",
    "# It can also be used to define what is imported when the package is imported\n",
    "# it is a special file used in Python to define a package\n",
    "# It can be empty or contain initialization code for the package\n",
    "# It can also define what is imported when the package is imported\n",
    "#from package.subpavkage import module1, module2\n",
    "# from package.subpackage import *  # This imports all modules from the subpackage"
   ]
  },
  {
   "cell_type": "code",
   "execution_count": null,
   "id": "b7634c2f",
   "metadata": {},
   "outputs": [],
   "source": [
    "#"
   ]
  }
 ],
 "metadata": {
  "kernelspec": {
   "display_name": "myenv",
   "language": "python",
   "name": "python3"
  },
  "language_info": {
   "codemirror_mode": {
    "name": "ipython",
    "version": 3
   },
   "file_extension": ".py",
   "mimetype": "text/x-python",
   "name": "python",
   "nbconvert_exporter": "python",
   "pygments_lexer": "ipython3",
   "version": "3.12.7"
  }
 },
 "nbformat": 4,
 "nbformat_minor": 5
}
